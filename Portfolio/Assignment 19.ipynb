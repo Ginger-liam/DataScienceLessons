{
 "cells": [
  {
   "cell_type": "markdown",
   "id": "0e0deb89",
   "metadata": {},
   "source": [
    "# Assignment 19\n",
    "### Random forest - categorical columns"
   ]
  },
  {
   "cell_type": "code",
   "execution_count": 26,
   "id": "b7a1eefb",
   "metadata": {},
   "outputs": [
    {
     "name": "stdout",
     "output_type": "stream",
     "text": [
      "Accuracy on training set: 0.8196392785571143\n",
      "Accuracy on test set: 0.7813953488372093\n"
     ]
    }
   ],
   "source": [
    "import pandas as pd\n",
    "import seaborn as sns\n",
    "from sklearn.model_selection import train_test_split\n",
    "from sklearn.ensemble import RandomForestClassifier\n",
    "import numpy as np\n",
    "\n",
    "# Load Titanic dataset\n",
    "df = sns.load_dataset('titanic')\n",
    "\n",
    "# Drop rows with missing values in selected columns\n",
    "features = ['pclass', 'sex', 'age', 'fare']\n",
    "target = 'survived'\n",
    "df = df.dropna(subset=features + [target])\n",
    "\n",
    "# Convert categorical columns to numeric\n",
    "df['sex'] = df['sex'].map({'male': 0, 'female': 1})\n",
    "\n",
    "X = df[features]\n",
    "y = df[target]\n",
    "\n",
    "# Split into train and test sets (70% train, 30% test)\n",
    "X_train, X_test, y_train, y_test = train_test_split(X, y, test_size=0.3, random_state=42, stratify=y)\n",
    "\n",
    "# Train RandomForestClassifier\n",
    "rf = RandomForestClassifier(n_estimators=10, max_depth=3)\n",
    "rf.fit(X_train, y_train)\n",
    "\n",
    "# Make predictions\n",
    "predictions_train = rf.predict(X_train)\n",
    "predictions_test = rf.predict(X_test)\n",
    "\n",
    "# Calculate accuracy\n",
    "def calculate_accuracy(predictions, actuals):\n",
    "    return (predictions == actuals).sum() / len(actuals)\n",
    "\n",
    "accuracy_train = calculate_accuracy(predictions_train, y_train)\n",
    "accuracy_test = calculate_accuracy(predictions_test, y_test)\n",
    "\n",
    "print(\"Accuracy on training set:\", accuracy_train)\n",
    "print(\"Accuracy on test set:\", accuracy_test)"
   ]
  },
  {
   "cell_type": "markdown",
   "id": "9173c256",
   "metadata": {},
   "source": [
    "### Conclusion\n",
    "As expected the result from the train set is slightly better, but the difference is only ~.6 so i would consider this good enough.\n",
    "\n",
    "When changing the max_depth, after about 5 as depth value you start overfitting quickly, this makes sense because the model becomes to specific for your train set. The amount of trees doesnt seem to cause this behavior, when it is set to 50 the accuracy on the train and test set seems to stay about the same.\n",
    "\n"
   ]
  }
 ],
 "metadata": {
  "kernelspec": {
   "display_name": "Python 3",
   "language": "python",
   "name": "python3"
  },
  "language_info": {
   "codemirror_mode": {
    "name": "ipython",
    "version": 3
   },
   "file_extension": ".py",
   "mimetype": "text/x-python",
   "name": "python",
   "nbconvert_exporter": "python",
   "pygments_lexer": "ipython3",
   "version": "3.13.3"
  }
 },
 "nbformat": 4,
 "nbformat_minor": 5
}
