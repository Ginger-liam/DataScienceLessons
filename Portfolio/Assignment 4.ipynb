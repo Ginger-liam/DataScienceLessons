{
 "cells": [
  {
   "cell_type": "markdown",
   "id": "a99706bf",
   "metadata": {},
   "source": [
    "# Assignment 4\n",
    "### Choosing a dataset"
   ]
  },
  {
   "cell_type": "markdown",
   "id": "40697763",
   "metadata": {},
   "source": [
    "It was hard finding a dataset that was actually usable. The problem i kept running into was that finding correlations between tables wasn't always easy. This meant is was hard to train a model accurately.\n",
    "\n",
    "This resulted in me giving up in trying to use a lesser known dataset based on my own interest. Instead i am using the Adult income dataset. It is a widely cited [KNN dataset](https://www.kaggle.com/datasets/wenruliu/adult-income-dataset/data) as a playground, so i figured it should be good."
   ]
  }
 ],
 "metadata": {
  "language_info": {
   "name": "python"
  }
 },
 "nbformat": 4,
 "nbformat_minor": 5
}
