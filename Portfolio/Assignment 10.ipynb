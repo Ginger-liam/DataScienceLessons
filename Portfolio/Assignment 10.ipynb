{
 "cells": [
  {
   "cell_type": "markdown",
   "id": "d8c5b846",
   "metadata": {},
   "source": [
    "# Assignment 10"
   ]
  }
 ],
 "metadata": {
  "language_info": {
   "name": "python"
  }
 },
 "nbformat": 4,
 "nbformat_minor": 5
}
