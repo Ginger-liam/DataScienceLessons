{
 "cells": [
  {
   "cell_type": "markdown",
   "id": "19116d81",
   "metadata": {},
   "source": [
    "# Assignment 2\n",
    "### What are some commonly used tools in data science?"
   ]
  },
  {
   "cell_type": "markdown",
   "id": "cbb1ce5f",
   "metadata": {},
   "source": [
    "Again we did this assignment together as the whole class, and started with a general brainstorm of tools people already knew. We came up with the following tools:\n",
    " - Python\n",
    " - R\n",
    " - Notebooks\n",
    "\n",
    "These tools help with understanding and visualising data. I also did some searching after the short brainstorm and found the following tools we didn't mention before:\n",
    "- Tableau: A powerful tool for creating interactive data visualizations\n",
    "- SQL: Used for querying and managing data in relational databases\n",
    "- TensorFlow: A library for building and training machine learning models\n",
    "\n",
    "The characteristics of these tools which makes them popular for data science is that they all help aim to help the user understand a dataset, that can be by visualisation, sorting or querying the data."
   ]
  }
 ],
 "metadata": {
  "language_info": {
   "name": "python"
  }
 },
 "nbformat": 4,
 "nbformat_minor": 5
}
