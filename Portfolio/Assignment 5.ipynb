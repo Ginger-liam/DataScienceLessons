{
 "cells": [
  {
   "cell_type": "markdown",
   "id": "ad085eea",
   "metadata": {},
   "source": [
    "# Assignment 5\n",
    "### Univariate analysis"
   ]
  },
  {
   "cell_type": "code",
   "execution_count": 8,
   "id": "1b6b5c10",
   "metadata": {},
   "outputs": [
    {
     "data": {
      "text/html": [
       "<div>\n",
       "<style scoped>\n",
       "    .dataframe tbody tr th:only-of-type {\n",
       "        vertical-align: middle;\n",
       "    }\n",
       "\n",
       "    .dataframe tbody tr th {\n",
       "        vertical-align: top;\n",
       "    }\n",
       "\n",
       "    .dataframe thead th {\n",
       "        text-align: right;\n",
       "    }\n",
       "</style>\n",
       "<table border=\"1\" class=\"dataframe\">\n",
       "  <thead>\n",
       "    <tr style=\"text-align: right;\">\n",
       "      <th></th>\n",
       "      <th>Location</th>\n",
       "      <th>Period</th>\n",
       "      <th>Indicator</th>\n",
       "      <th>Dim1</th>\n",
       "      <th>First Tooltip</th>\n",
       "    </tr>\n",
       "  </thead>\n",
       "  <tbody>\n",
       "    <tr>\n",
       "      <th>0</th>\n",
       "      <td>Afghanistan</td>\n",
       "      <td>2019</td>\n",
       "      <td>Life expectancy at birth (years)</td>\n",
       "      <td>Both sexes</td>\n",
       "      <td>63.21</td>\n",
       "    </tr>\n",
       "    <tr>\n",
       "      <th>1</th>\n",
       "      <td>Afghanistan</td>\n",
       "      <td>2019</td>\n",
       "      <td>Life expectancy at birth (years)</td>\n",
       "      <td>Male</td>\n",
       "      <td>63.29</td>\n",
       "    </tr>\n",
       "    <tr>\n",
       "      <th>2</th>\n",
       "      <td>Afghanistan</td>\n",
       "      <td>2019</td>\n",
       "      <td>Life expectancy at birth (years)</td>\n",
       "      <td>Female</td>\n",
       "      <td>63.16</td>\n",
       "    </tr>\n",
       "    <tr>\n",
       "      <th>3</th>\n",
       "      <td>Afghanistan</td>\n",
       "      <td>2015</td>\n",
       "      <td>Life expectancy at birth (years)</td>\n",
       "      <td>Both sexes</td>\n",
       "      <td>61.65</td>\n",
       "    </tr>\n",
       "    <tr>\n",
       "      <th>4</th>\n",
       "      <td>Afghanistan</td>\n",
       "      <td>2015</td>\n",
       "      <td>Life expectancy at birth (years)</td>\n",
       "      <td>Male</td>\n",
       "      <td>61.04</td>\n",
       "    </tr>\n",
       "  </tbody>\n",
       "</table>\n",
       "</div>"
      ],
      "text/plain": [
       "      Location  Period                         Indicator        Dim1  \\\n",
       "0  Afghanistan    2019  Life expectancy at birth (years)  Both sexes   \n",
       "1  Afghanistan    2019  Life expectancy at birth (years)        Male   \n",
       "2  Afghanistan    2019  Life expectancy at birth (years)      Female   \n",
       "3  Afghanistan    2015  Life expectancy at birth (years)  Both sexes   \n",
       "4  Afghanistan    2015  Life expectancy at birth (years)        Male   \n",
       "\n",
       "   First Tooltip  \n",
       "0          63.21  \n",
       "1          63.29  \n",
       "2          63.16  \n",
       "3          61.65  \n",
       "4          61.04  "
      ]
     },
     "execution_count": 8,
     "metadata": {},
     "output_type": "execute_result"
    }
   ],
   "source": [
    "import pandas as pd\n",
    "\n",
    "# Load the dataset\n",
    "lifeExpectancy = pd.read_csv('../datasets/lifeExpectancyAtBirth.csv', sep=',')\n",
    "\n",
    "# Display the first few rows\n",
    "lifeExpectancy.head()"
   ]
  },
  {
   "cell_type": "code",
   "execution_count": 9,
   "id": "49cf916c",
   "metadata": {},
   "outputs": [
    {
     "data": {
      "text/plain": [
       "count    183.000000\n",
       "mean      72.540492\n",
       "std        7.129956\n",
       "min       50.750000\n",
       "25%       66.550000\n",
       "50%       73.740000\n",
       "75%       77.730000\n",
       "max       84.260000\n",
       "Name: First Tooltip, dtype: float64"
      ]
     },
     "execution_count": 9,
     "metadata": {},
     "output_type": "execute_result"
    }
   ],
   "source": [
    "# Filter for 2019 and 'Both sexes'\n",
    "life2019 = lifeExpectancy[(lifeExpectancy['Period'] == 2019) & (lifeExpectancy['Dim1'] == 'Both sexes')]\n",
    "\n",
    "# Univariate analysis: describe life expectancy\n",
    "life2019['First Tooltip'].describe()"
   ]
  },
  {
   "cell_type": "code",
   "execution_count": 10,
   "id": "fc3640d9",
   "metadata": {},
   "outputs": [
    {
     "name": "stdout",
     "output_type": "stream",
     "text": [
      "Five countries with the highest life expectancy in 2019:\n",
      "               Location  First Tooltip\n",
      "997               Japan          84.26\n",
      "1897        Switzerland          83.45\n",
      "1573  Republic of Korea          83.30\n",
      "1837              Spain          83.22\n",
      "1753          Singapore          83.22\n",
      "\n",
      "Five countries with the lowest life expectancy in 2019:\n",
      "                      Location  First Tooltip\n",
      "1117                   Lesotho          50.75\n",
      "373   Central African Republic          53.10\n",
      "1801                   Somalia          56.47\n",
      "661                   Eswatini          57.73\n",
      "1333                Mozambique          58.14\n"
     ]
    }
   ],
   "source": [
    "# Five countries with the highest life expectancy\n",
    "highest = life2019.sort_values(by='First Tooltip', ascending=False).head(5)\n",
    "print(\"Five countries with the highest life expectancy in 2019:\")\n",
    "print(highest[['Location', 'First Tooltip']])\n",
    "\n",
    "# Five countries with the lowest life expectancy\n",
    "lowest = life2019.sort_values(by='First Tooltip', ascending=True).head(5)\n",
    "print(\"\\nFive countries with the lowest life expectancy in 2019:\")\n",
    "print(lowest[['Location', 'First Tooltip']])"
   ]
  },
  {
   "cell_type": "markdown",
   "id": "b79679eb",
   "metadata": {},
   "source": [
    "### Conclusion\n",
    "We first create the dataframe with the filtered results (only period value of 2019 and dim1 of 'both sexes'). Next we sort the data based on the 'first tooltip' column and print these values, both ascending and descending."
   ]
  }
 ],
 "metadata": {
  "kernelspec": {
   "display_name": "Python 3",
   "language": "python",
   "name": "python3"
  },
  "language_info": {
   "codemirror_mode": {
    "name": "ipython",
    "version": 3
   },
   "file_extension": ".py",
   "mimetype": "text/x-python",
   "name": "python",
   "nbconvert_exporter": "python",
   "pygments_lexer": "ipython3",
   "version": "3.13.3"
  }
 },
 "nbformat": 4,
 "nbformat_minor": 5
}
