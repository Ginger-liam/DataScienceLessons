{
 "cells": [
  {
   "cell_type": "markdown",
   "id": "19116d81",
   "metadata": {},
   "source": [
    "# Assignment 1\n",
    "### What is data science?"
   ]
  },
  {
   "cell_type": "markdown",
   "id": "cbb1ce5f",
   "metadata": {},
   "source": [
    "During this assignment we talked about our understanding of the term 'data science'. Some terms thrown around were things like the study of data, understanding what data means and prediction of the future. My personal thought about the meaning of data science is quite similar, i think its a term to describe a group of subjects.\n",
    "\n",
    "Next we had a look at what chatgpt has to say on the matter, this was the result: \"Data science is the field of analyzing, processing, and interpreting data to extract insights and solve problems using techniques from statistics, programming, and machine learning.\"\n",
    "\n",
    "I think this is a simple and direct way of explaining datascience."
   ]
  }
 ],
 "metadata": {
  "language_info": {
   "name": "python"
  }
 },
 "nbformat": 4,
 "nbformat_minor": 5
}
